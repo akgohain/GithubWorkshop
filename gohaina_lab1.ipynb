{
  "cells": [
    {
      "cell_type": "markdown",
      "metadata": {
        "id": "view-in-github",
        "colab_type": "text"
      },
      "source": [
        "<a href=\"https://colab.research.google.com/github/akgohain/GithubWorkshop/blob/main/gohaina_lab1.ipynb\" target=\"_parent\"><img src=\"https://colab.research.google.com/assets/colab-badge.svg\" alt=\"Open In Colab\"/></a>"
      ]
    },
    {
      "cell_type": "markdown",
      "metadata": {
        "id": "QuUAgQFQlsJU"
      },
      "source": [
        "# [CSCI 3397/PSYC 3317] Lab 1: Image Operations\n",
        "\n",
        "**Posted:** Wednesday, January 24, 2024\n",
        "\n",
        "**Due:** Wednesday, January 31, 2024\n",
        "\n",
        "__Total Points__: 10 pts\n",
        "\n",
        "__Submission__: please rename the .ipynb file as __\\<your_username\\>_lab1.ipynb__ before you submit it to canvas. Example: weidf_lab1.ipynb."
      ]
    },
    {
      "cell_type": "markdown",
      "metadata": {
        "id": "weMMc2WZlsJc"
      },
      "source": [
        "# <b>1. Numpy for Matrix Manipulation</b>"
      ]
    },
    {
      "cell_type": "markdown",
      "metadata": {
        "id": "IRelpfS8lsJz"
      },
      "source": [
        "Numpy is a numerical library that provides **_tons_** of useful functions for scalar, array, and matrix types. We'll only go into a small scratch of numpy.\n",
        "\n",
        "**Why numpy instead of regular `for` loops**? \\\n",
        "In addition to the convenience of not redesigning the wheel, much of Numpy is built directly in C++ and is well optimized, so it runs *very* fast\n",
        "\n",
        "Let's import numpy now! It is customary to call it `np`, since you need to reference it a lot."
      ]
    },
    {
      "cell_type": "code",
      "execution_count": null,
      "metadata": {
        "id": "bPWkPZ-3lsJ3"
      },
      "outputs": [],
      "source": [
        "import numpy as np"
      ]
    },
    {
      "cell_type": "markdown",
      "metadata": {
        "id": "TsPlWndglsKD"
      },
      "source": [
        "## 1.1 Arrays, Matrices, and Tensors"
      ]
    },
    {
      "cell_type": "markdown",
      "metadata": {
        "id": "-0UBbo9nlsKG"
      },
      "source": [
        "### Array\n",
        "One of the most important primitives in numpy is the `np.array` - this represents a fixed-size array (or list) of elements.\n",
        "\n",
        "Unlike Python lists, numpy arrays **MUST HAVE THE SAME TYPE**. The types allowed by numpy are below. Note that you have greater control over how much space is used by each datatype than Python primitives:\n",
        "- float16, float32, float64 (decimal values)\n",
        "- int8, int16, int32, int64 (integers)\n",
        "- uint8, uint16, uint32, uint64 (unsigned, or positive, integers)\n",
        "- bool (boolean)\n",
        "- complex64, complex128 (Complex numbers, represented as 2 floats)\n",
        "\n",
        "All of these types have a default size that you can access with `np.float`, `np.int`, and so on.\n",
        "\n",
        "Let's make an array from a Python list!"
      ]
    },
    {
      "cell_type": "code",
      "execution_count": null,
      "metadata": {
        "id": "86ESPxI0lsKK"
      },
      "outputs": [],
      "source": [
        "a = np.array([1, 2, 3, 4, 5, 6, 7, 8])\n",
        "print(\"A is\", a)\n",
        "print(\"Object Type:\",type(a))"
      ]
    },
    {
      "cell_type": "markdown",
      "metadata": {
        "id": "rxLQlv98lsKg"
      },
      "source": [
        "Let's see what type numpy inferred from our data"
      ]
    },
    {
      "cell_type": "code",
      "execution_count": null,
      "metadata": {
        "id": "P5s8HH06lsKj"
      },
      "outputs": [],
      "source": [
        "a.dtype"
      ]
    },
    {
      "cell_type": "markdown",
      "metadata": {
        "id": "8Yxd-jJqlsK_"
      },
      "source": [
        "We can access elements of an array using the same `[]` notation we're used to. We can even use negatives to index from the end, and make slices."
      ]
    },
    {
      "cell_type": "code",
      "execution_count": null,
      "metadata": {
        "id": "_r4tMqNzlsLC"
      },
      "outputs": [],
      "source": [
        "print(a[1])\n",
        "print(a[-1])\n",
        "print(a[0:6:2]) # index start from 0, end at 6, step = 2"
      ]
    },
    {
      "cell_type": "markdown",
      "metadata": {
        "id": "tZTqTerwlsLP"
      },
      "source": [
        "Since arrays have a fixed size, we can get this size as a tuple using the `shape` attribute - you can't set this though!"
      ]
    },
    {
      "cell_type": "code",
      "execution_count": null,
      "metadata": {
        "id": "2_HeIgCnlsLT"
      },
      "outputs": [],
      "source": [
        "print(a.shape)"
      ]
    },
    {
      "cell_type": "markdown",
      "metadata": {
        "id": "NcFvaJAxlsLg"
      },
      "source": [
        "We can also change elements of the array - we just can't add new elements"
      ]
    },
    {
      "cell_type": "code",
      "execution_count": null,
      "metadata": {
        "id": "X2IBQgOIlsLk"
      },
      "outputs": [],
      "source": [
        "a[0] = 100\n",
        "print(a)"
      ]
    },
    {
      "cell_type": "markdown",
      "metadata": {
        "id": "u1xAr63xlsLw"
      },
      "source": [
        "Since `a` and `b` are numpy arrays, we can do math with them now! These operations, by default, will happen out-of-place (a new array will be created to store the result)"
      ]
    },
    {
      "cell_type": "code",
      "execution_count": null,
      "metadata": {
        "id": "7GxTc80tlsLz"
      },
      "outputs": [],
      "source": [
        "print(\"Numpy math:\")\n",
        "print(a[:3],\"+\",a[-3:],\"=\",a[:3] + a[-3:])\n",
        "\n",
        "# If they weren't numpy arrays\n",
        "print(\"\\nVanilla Python List math:\")\n",
        "print(list(a),\"+\",list(a[:3]),\"=\",list(a) + list(a[:3]))"
      ]
    },
    {
      "cell_type": "markdown",
      "metadata": {
        "id": "3mTuX0yAlsL-"
      },
      "source": [
        "This is a small example, but we'll soon see more complicated operations numpy arrays can perform!"
      ]
    },
    {
      "cell_type": "markdown",
      "metadata": {
        "id": "J7ijTZXQlsMC"
      },
      "source": [
        "### Matrix\n",
        "We can also make matrices, by simply giving the constructor the correct shape of data"
      ]
    },
    {
      "cell_type": "code",
      "execution_count": null,
      "metadata": {
        "id": "34cv7N9nlsMI"
      },
      "outputs": [],
      "source": [
        "my_matrix = np.array(\n",
        "    [\n",
        "        [1, 2, 3],\n",
        "        [4, 5, 6]\n",
        "    ]\n",
        ")\n",
        "print(my_matrix)"
      ]
    },
    {
      "cell_type": "markdown",
      "metadata": {
        "id": "WkUIK3i4lsMS"
      },
      "source": [
        "Now, using shape will be more helpful - note that you couldn't get this shape with a Python list!"
      ]
    },
    {
      "cell_type": "code",
      "execution_count": null,
      "metadata": {
        "id": "qARpdnhelsMV"
      },
      "outputs": [],
      "source": [
        "print(my_matrix.shape)"
      ]
    },
    {
      "cell_type": "markdown",
      "metadata": {
        "id": "cjt2c_ZnlsMh"
      },
      "source": [
        "We can access matrix elements using each of their indices in order. (All dimensions are 0-indexed)"
      ]
    },
    {
      "cell_type": "code",
      "execution_count": null,
      "metadata": {
        "id": "PQxw9AN_lsMk"
      },
      "outputs": [],
      "source": [
        "print(my_matrix[0,2]) # Get row 0, column 2. The order of these indices matches their respective maximums in shape."
      ]
    },
    {
      "cell_type": "markdown",
      "metadata": {
        "id": "hXJwgdR9lsM0"
      },
      "source": [
        "We can still use slices, and negative indexing. Slicing a row or column from a matrix gives us a 1d array!"
      ]
    },
    {
      "cell_type": "code",
      "execution_count": null,
      "metadata": {
        "id": "ufOBsi-llsM5"
      },
      "outputs": [],
      "source": [
        "# Get row 0, all columns except the last one\n",
        "print(my_matrix[0,:-1])\n",
        "\n",
        "# Get columns 1 and 2.\n",
        "print(my_matrix[:, 1:3])"
      ]
    },
    {
      "cell_type": "markdown",
      "metadata": {
        "id": "9uW_xhnqlsNM"
      },
      "source": [
        "We can also still index into this as an outer-array"
      ]
    },
    {
      "cell_type": "code",
      "execution_count": null,
      "metadata": {
        "id": "ovj7O-0mlsNP"
      },
      "outputs": [],
      "source": [
        "# Gets the 0th element of the outer array - that's the 0th row!\n",
        "print(my_matrix[0])"
      ]
    },
    {
      "cell_type": "markdown",
      "metadata": {
        "id": "UIkyPTQtlsNd"
      },
      "source": [
        "**NOTE:** Matrices in numpy MUST be rectangular. Unlike nested Python lists, which can have the first list contain 1 element, and the second list contain 3 elements, in a numpy matrix, all rows have to have the same length. In other words, the matrix cannot be \"jagged\""
      ]
    },
    {
      "cell_type": "markdown",
      "metadata": {
        "id": "5Gu6uF9AlsOH"
      },
      "source": [
        "So, we can actually shape these 6 elements into whatever shape we want! This can be useful to create high dimensional arrays."
      ]
    },
    {
      "cell_type": "code",
      "execution_count": null,
      "metadata": {
        "id": "75xHCDVElsOL"
      },
      "outputs": [],
      "source": [
        "my_reshaped_matrix = my_matrix.reshape((3,2))\n",
        "my_reshaped_matrix"
      ]
    },
    {
      "cell_type": "markdown",
      "metadata": {
        "id": "kPGcM7iUlsOa"
      },
      "source": [
        "Unless you explicitly use `np.copy`, Reshapes and slices create *views* of your data - that is, they all reference the same data! So, since the variables are all aliases to the same data, changes to one will reflect in all the others! This is a double-edged sword that can boost your performance, but might catch you off guard."
      ]
    },
    {
      "cell_type": "code",
      "execution_count": null,
      "metadata": {
        "id": "FBF6eDCvlsOd"
      },
      "outputs": [],
      "source": [
        "print(\"Original my_matrix\")\n",
        "print(my_matrix)\n",
        "print(\"Original my_reshaped_matrix\")\n",
        "print(my_reshaped_matrix)\n",
        "\n",
        "# Change an element\n",
        "print(\"===MAKING A CHANGE===\")\n",
        "my_matrix[0,0] = 100 - my_matrix[0, 0]\n",
        "\n",
        "print(\"New my_matrix\")\n",
        "print(my_matrix)\n",
        "print(\"New my_reshaped_matrix\")\n",
        "print(my_reshaped_matrix)"
      ]
    },
    {
      "cell_type": "markdown",
      "metadata": {
        "id": "iax2QveulsOw"
      },
      "source": [
        "### The third dimension and beyond\n",
        "\n",
        "We were able to add a dimension to a 1d array to make a 2d matrix.\n",
        "In fact, numpy can handle even more dimensions!\n",
        "In computer vision, we often will use 3 dimensions worth of data (Height x Width x 3 colors)\n",
        "\n",
        "A \"matrix\" with 3 or more dimensions is called a *Tensor*.  \n",
        "Let's make a 2 x 3 x 4 tensor (2 stacked 3x4 matrices)"
      ]
    },
    {
      "cell_type": "code",
      "execution_count": null,
      "metadata": {
        "id": "G7X_1MEqlsO1"
      },
      "outputs": [],
      "source": [
        "my_tensor = np.array(range(2*3*4)).reshape(2,3,4)\n",
        "print(my_tensor)"
      ]
    },
    {
      "cell_type": "markdown",
      "metadata": {
        "id": "jLAg8eaAlsO8"
      },
      "source": [
        "We can use a tensor like any matrix or array"
      ]
    },
    {
      "cell_type": "code",
      "execution_count": null,
      "metadata": {
        "id": "s4aNEjs1lsO9"
      },
      "outputs": [],
      "source": [
        "# Get the 0th matrix slice, the 1st row of that matrix, and the 2nd column of that row\n",
        "print(my_tensor[0,1,2])"
      ]
    },
    {
      "cell_type": "markdown",
      "metadata": {
        "id": "j1Rz7PmnlsPF"
      },
      "source": [
        "## 1.2 Array Creation\n",
        "Numpy also provides several convenience functions to help you make make empty ndarrays"
      ]
    },
    {
      "cell_type": "code",
      "execution_count": null,
      "metadata": {
        "id": "KGixnygUlsPI"
      },
      "outputs": [],
      "source": [
        "desired_shape = (2,3)"
      ]
    },
    {
      "cell_type": "markdown",
      "metadata": {
        "id": "K2aU2SuRlsPN"
      },
      "source": [
        "Some useful ones:\n",
        "- zeros: Creates an array filled with zeros\n",
        "- ones: An array of ones\n",
        "- eye: The identity matrix I (needs 1 integer for square size)\n",
        "- full: Fills with an element\n",
        "- np.random.random: Random between 0 and 1"
      ]
    },
    {
      "cell_type": "code",
      "execution_count": null,
      "metadata": {
        "id": "0tj2E41OlsPP"
      },
      "outputs": [],
      "source": [
        "print(np.zeros(desired_shape)          , '\\n')\n",
        "print(np.ones(desired_shape)           , '\\n')\n",
        "print(np.eye(3)                        , '\\n')\n",
        "print(np.full(desired_shape, 7)        , '\\n')\n",
        "print(np.random.random(desired_shape)  , '\\n')"
      ]
    },
    {
      "cell_type": "markdown",
      "metadata": {
        "id": "p-k3yNZRlsPW"
      },
      "source": [
        "If you want to create an array ranging from 0 to 10"
      ]
    },
    {
      "cell_type": "code",
      "execution_count": null,
      "metadata": {
        "id": "xDo_j0_elsPY"
      },
      "outputs": [],
      "source": [
        "np.arange(10+1)"
      ]
    },
    {
      "cell_type": "markdown",
      "metadata": {
        "id": "cglN-VeGlsPd"
      },
      "source": [
        "## 1.3 Array Indexing"
      ]
    },
    {
      "cell_type": "markdown",
      "metadata": {
        "id": "6MKuMsnblsPj"
      },
      "source": [
        "We've already done a lot of indexing into arrays above, but let's look at some more details"
      ]
    },
    {
      "cell_type": "code",
      "execution_count": null,
      "metadata": {
        "id": "XiCgaCR9lsPk"
      },
      "outputs": [],
      "source": [
        "my_tensor = np.array(range(2*3*4)).reshape(2,3,4).astype(np.int)\n",
        "my_tensor"
      ]
    },
    {
      "cell_type": "markdown",
      "metadata": {
        "id": "ZCGNxWnVlsPu"
      },
      "source": [
        "### Getting Elements\n",
        "We can get elements by fully specifying the index"
      ]
    },
    {
      "cell_type": "code",
      "execution_count": null,
      "metadata": {
        "id": "q1MNo2yWlsPw"
      },
      "outputs": [],
      "source": [
        "my_tensor[0,1,2]"
      ]
    },
    {
      "cell_type": "markdown",
      "metadata": {
        "id": "U2zellPGlsP1"
      },
      "source": [
        "If we partially specify the index (in order), since this is a list-of-lists, basically, we'll get \"rows\" (or matrices, if taking parts of a tensor"
      ]
    },
    {
      "cell_type": "code",
      "execution_count": null,
      "metadata": {
        "id": "cb9PtRoclsP3"
      },
      "outputs": [],
      "source": [
        "my_tensor[0]"
      ]
    },
    {
      "cell_type": "code",
      "execution_count": null,
      "metadata": {
        "id": "e7bFnquClsP8"
      },
      "outputs": [],
      "source": [
        "my_tensor[0, 0]"
      ]
    },
    {
      "cell_type": "markdown",
      "metadata": {
        "id": "uo0r2zUYlsQH"
      },
      "source": [
        "By this logic, we can also keep adding square brackets (get the matrix, then the row, then the column)."
      ]
    },
    {
      "cell_type": "code",
      "execution_count": null,
      "metadata": {
        "id": "mmxBD63HlsQL"
      },
      "outputs": [],
      "source": [
        "my_tensor[0][0]"
      ]
    },
    {
      "cell_type": "markdown",
      "metadata": {
        "id": "cnu9vSm2lsQW"
      },
      "source": [
        "We can also use standard slice notation. Again, we don't have to specify all the dimensions"
      ]
    },
    {
      "cell_type": "code",
      "execution_count": null,
      "metadata": {
        "id": "2l4uM8talsQY"
      },
      "outputs": [],
      "source": [
        "my_tensor[0, 0:2]"
      ]
    },
    {
      "cell_type": "markdown",
      "metadata": {
        "id": "sNcr8ZiulsQd"
      },
      "source": [
        "### Setting elements\n",
        "\n",
        "We can set elements that we index to"
      ]
    },
    {
      "cell_type": "code",
      "execution_count": null,
      "metadata": {
        "id": "HGVgxGdClsQf"
      },
      "outputs": [],
      "source": [
        "my_tensor[0, 0, 0] = 100\n",
        "my_tensor"
      ]
    },
    {
      "cell_type": "markdown",
      "metadata": {
        "id": "Gi-LHTp_lsQm"
      },
      "source": [
        "We can also set blocks / slices that we index into, as long as the shapes match! (some more details: this copies values, no longer references)"
      ]
    },
    {
      "cell_type": "code",
      "execution_count": null,
      "metadata": {
        "id": "3a7_ftSqlsQo"
      },
      "outputs": [],
      "source": [
        "# Get the 0th matrix slice. Rows 1 and 2. Get every other column starting from 0\n",
        "my_tensor[0,1:3,0::2]"
      ]
    },
    {
      "cell_type": "code",
      "execution_count": null,
      "metadata": {
        "id": "nHPPR42nlsQt"
      },
      "outputs": [],
      "source": [
        "replacement = (np.eye(2, dtype=np.int) + 2) * 100\n",
        "replacement"
      ]
    },
    {
      "cell_type": "code",
      "execution_count": null,
      "metadata": {
        "id": "ENDMmY3WlsQ0"
      },
      "outputs": [],
      "source": [
        "my_tensor[0, 1:3, 0::2] = replacement\n",
        "my_tensor"
      ]
    },
    {
      "cell_type": "markdown",
      "metadata": {
        "id": "w0bPwmQ-t29F"
      },
      "source": [
        "We can also use a boolean tensor of the same size to index the tensor. For example, if we want to set everything smaller than 5 to 1 in the tensor."
      ]
    },
    {
      "cell_type": "code",
      "execution_count": null,
      "metadata": {
        "id": "mFee5XOZt0v2"
      },
      "outputs": [],
      "source": [
        "my_tensor[my_tensor < 5] = 1"
      ]
    },
    {
      "cell_type": "markdown",
      "metadata": {
        "id": "wn4EUsu3lsSa"
      },
      "source": [
        "## 1.4 Matrix/Vector Operations\n",
        "\n",
        "Indexing and creating arrays is cool, but the real power of Numpy is doing math using those arrays."
      ]
    },
    {
      "cell_type": "markdown",
      "source": [
        "### Elementwise arithmetics"
      ],
      "metadata": {
        "id": "39m06okBI4m4"
      }
    },
    {
      "cell_type": "markdown",
      "metadata": {
        "id": "K2qjvNr7lsSb"
      },
      "source": [
        "The basic mathematical operators (+, -, /, \\*, %) are treated as \"elementwise\" operators - they do something with each element. Which operands are used depends on a concept called \"broadcasting\". In practice - if you have two ndarrays of the same shape, then the operands will be corresponding elements in each ndarray. Otherwise, if possible, the smaller ndarray/scalar is repeated to be the same size as the larger array."
      ]
    },
    {
      "cell_type": "code",
      "execution_count": null,
      "metadata": {
        "id": "xKbDvKXflsSd"
      },
      "outputs": [],
      "source": [
        "a = np.array(range(10)).reshape(2,5)\n",
        "b = np.array(range(100,1100,100)).reshape(2,5)\n",
        "print(\"a =\",  a  )\n",
        "print(\"b =\",  b  )"
      ]
    },
    {
      "cell_type": "markdown",
      "metadata": {
        "id": "WUc4W7zXlsSi"
      },
      "source": [
        "Operate on corresponding elements of a and b"
      ]
    },
    {
      "cell_type": "code",
      "execution_count": null,
      "metadata": {
        "id": "l5sbCnHUlsSj"
      },
      "outputs": [],
      "source": [
        "a + b"
      ]
    },
    {
      "cell_type": "code",
      "execution_count": null,
      "metadata": {
        "id": "XrfLmt_3lsSp"
      },
      "outputs": [],
      "source": [
        "a * b"
      ]
    },
    {
      "cell_type": "markdown",
      "metadata": {
        "id": "LHzMZue0lsSt"
      },
      "source": [
        "We can also use scalars as operands, which will be \"broadcast\" to every element."
      ]
    },
    {
      "cell_type": "code",
      "execution_count": null,
      "metadata": {
        "id": "uMMQc84dlsSv"
      },
      "outputs": [],
      "source": [
        "a * 2"
      ]
    },
    {
      "cell_type": "code",
      "execution_count": null,
      "metadata": {
        "id": "JHbA-iQ5lsSz"
      },
      "outputs": [],
      "source": [
        "b % 3"
      ]
    },
    {
      "cell_type": "markdown",
      "source": [
        "### Vector-vector: dot product\n",
        "$a\\cdot b = \\sum_{i=0}^{n-1} a_ib_i$"
      ],
      "metadata": {
        "id": "i_NwFDmfM2rI"
      }
    },
    {
      "cell_type": "code",
      "source": [
        "a = np.random.random(50)\n",
        "b = np.random.random(50)\n",
        "dot_np = np.dot(a, b)"
      ],
      "metadata": {
        "id": "qzO1lh5MM2D2"
      },
      "execution_count": null,
      "outputs": []
    },
    {
      "cell_type": "markdown",
      "source": [
        "### Matrix-vector: product\n",
        "\n",
        "The **matrix-vector** multiplication bewteen a $m\\times n$ matrix $A=\\begin{bmatrix}a_{0,0}&\\dots&a_{0,n-1} \\\\\\vdots & \\ddots &\\vdots\\\\ a_{m-1,0} & \\dots &a_{m-1,n-1}\\end{bmatrix}$ and a $n\\times 1$ vector $b=\\begin{bmatrix}b_0\\\\\\vdots\\\\b_{n-1}\\end{bmatrix}$ is defined as follows:\n",
        "$Ab = \\begin{bmatrix}A_{0,*} \\cdot b\\\\\\vdots\\\\A_{m-1,*} \\cdot b\\end{bmatrix}$"
      ],
      "metadata": {
        "id": "sTFJpFYENIpU"
      }
    },
    {
      "cell_type": "code",
      "source": [
        "a = np.random.random([20,50])\n",
        "b = np.random.random([50])\n",
        "matrix_vector_np = np.matmul(a, b)"
      ],
      "metadata": {
        "id": "MZ9SCmpXNIto"
      },
      "execution_count": null,
      "outputs": []
    },
    {
      "cell_type": "markdown",
      "source": [
        "### Matrix-matrix product\n",
        "$AB = \\begin{bmatrix}AB_{*,0} & \\dots & AB_{*,p-1}\\end{bmatrix}$\n",
        "\n",
        "or\n",
        "\n",
        "$AB = \\begin{bmatrix}A_{0,*} \\cdot B_{*,0}^T & \\dots & A_{0,*} \\cdot B_{*,p-1}^T\\\\\\vdots & \\ddots & \\vdots\\\\ A_{m-1,*} \\cdot B_{*,0}^T & \\dots & A_{m-1,*} \\cdot B_{*,p-1}^T\\end{bmatrix}$"
      ],
      "metadata": {
        "id": "mdUYLfvfNhw6"
      }
    },
    {
      "cell_type": "code",
      "source": [
        "a = np.random.random([20, 50])\n",
        "b = np.random.random([50, 10])\n",
        "matrix_matrix_np = np.matmul(a, b)\n"
      ],
      "metadata": {
        "id": "bpiETQa7Nh0-"
      },
      "execution_count": null,
      "outputs": []
    },
    {
      "cell_type": "markdown",
      "metadata": {
        "id": "2gc0W1Cc1oW3"
      },
      "source": [
        "# <b>2. Pixel-level operations (Lec. 4)</b>\n",
        "In this section, you will reproduce the images in Lec. 4."
      ]
    },
    {
      "cell_type": "code",
      "source": [
        "# download image\n",
        "! wget https://bc-cv.github.io/csci3397/public/dip_pixel/xray_image.png -O xray_image.png\n",
        "! wget https://bc-cv.github.io/csci3397/public/dip_pixel/600px-Unequalized_Hawkes_Bay_NZ.jpg -O desert.jpg\n",
        "! wget https://bc-cv.github.io/csci3397/public/biomed_image/microscopy_image.npy"
      ],
      "metadata": {
        "id": "pXmLrat255gp"
      },
      "execution_count": null,
      "outputs": []
    },
    {
      "cell_type": "markdown",
      "metadata": {
        "id": "Y38DMKPz1oW3"
      },
      "source": [
        "Read and visualize the X-ray image. The image looks washed out as most pixel values are high."
      ]
    },
    {
      "cell_type": "code",
      "execution_count": null,
      "metadata": {
        "id": "Hi8fMTOT1oW4"
      },
      "outputs": [],
      "source": [
        "from imageio import imread\n",
        "import matplotlib.pyplot as plt\n",
        "\n",
        "I_xray = imread('xray_image.png')\n",
        "\n",
        "plt.figure(figsize=(8, 4))\n",
        "\n",
        "# show the image\n",
        "plt.subplot(121)\n",
        "plt.imshow(I_xray, cmap='gray', vmin=0, vmax=255)\n",
        "plt.axis('off')\n",
        "plt.title('input image')\n",
        "\n",
        "# show the pixel value histogram\n",
        "plt.subplot(122)\n",
        "plt.hist(I_xray.reshape(-1), bins=range(0,255,20))\n",
        "plt.title('pixel value histogram')\n",
        "\n",
        "plt.show()"
      ]
    },
    {
      "cell_type": "markdown",
      "metadata": {
        "id": "qZZ6q_Z71oW5"
      },
      "source": [
        "## 2.1 Algorithm"
      ]
    },
    {
      "cell_type": "markdown",
      "source": [
        "### Auto-contrast\n"
      ],
      "metadata": {
        "id": "eniwcRAb5PUQ"
      }
    },
    {
      "cell_type": "code",
      "execution_count": null,
      "metadata": {
        "id": "zx7IDgT21oW5"
      },
      "outputs": [],
      "source": [
        "import numpy as np\n",
        "# Caveat II: imshow function automatically scale image\n",
        "print('Image data type: ', I_xray.dtype)\n",
        "plt.figure(figsize=(8, 12))\n",
        "\n",
        "# input image and histogram\n",
        "plt.subplot(321)\n",
        "plt.imshow(I_xray, cmap='gray', vmin=0, vmax=255)\n",
        "plt.axis('off')\n",
        "plt.title('I')\n",
        "\n",
        "plt.subplot(322)\n",
        "plt.hist(I_xray.reshape(-1), bins=range(0,255,20))\n",
        "plt.title('I histogram')\n",
        "\n",
        "# step 1: shift the histogram to left endpoint\n",
        "I_xray_left = I_xray - I_xray.min()\n",
        "plt.subplot(323)\n",
        "plt.imshow(I_xray_left, cmap='gray', vmin=0, vmax=255)\n",
        "plt.axis('off')\n",
        "plt.title('I-shift-left')\n",
        "\n",
        "plt.subplot(324)\n",
        "plt.hist(I_xray_left.reshape(-1), bins=range(0,255,20))\n",
        "plt.title('I-shift-left histogram')\n",
        "\n",
        "# step 2: scale the histogram to right endpoint\n",
        "I_xray_left_right = I_xray_left/float(I_xray.max()-I_xray.min())\n",
        "I_xray_left_right = (I_xray_left_right * 255).astype(np.uint8)\n",
        "plt.subplot(325)\n",
        "plt.imshow(I_xray_left_right, cmap='gray', vmin=0, vmax=255)\n",
        "plt.axis('off')\n",
        "plt.title('final')\n",
        "\n",
        "plt.subplot(326)\n",
        "plt.hist(I_xray_left_right.reshape(-1), bins=range(0,255,20))\n",
        "plt.title('final histogram')"
      ]
    },
    {
      "cell_type": "markdown",
      "source": [
        "### Histogram equalization\n",
        "\n",
        "<a href=\"https://en.wikipedia.org/wiki/Histogram_equalization\">Wikipedia link</a>\n",
        "\n",
        "![image.png](data:image/png;base64,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)"
      ],
      "metadata": {
        "id": "51mrhPK75Uei"
      }
    },
    {
      "cell_type": "code",
      "source": [
        "I_xray = imread('xray_image.png')\n",
        "# get statistics\n",
        "unique_id, unique_count = np.unique(I_xray, return_counts=True)\n",
        "I_xray_cdf = np.cumsum(unique_count)\n",
        "\n",
        "# create the look up table\n",
        "lookup = np.zeros(I_xray.max()+1,np.uint8)\n",
        "lookup[unique_id] = 255*(I_xray_cdf-I_xray_cdf.min()).astype(float)/(I_xray.size-I_xray_cdf.min())\n",
        "\n",
        "# output image\n",
        "I_xray_eq = lookup[I_xray]\n",
        "\n",
        "plt.figure(figsize=(10,5))\n",
        "plt.subplot(221)\n",
        "plt.imshow(I_xray, cmap='gray')\n",
        "plt.axis('off')\n",
        "plt.subplot(222)\n",
        "plt.imshow(I_xray_eq, cmap='gray')\n",
        "plt.axis('off')\n",
        "plt.subplot(223)\n",
        "plt.hist(I_xray.ravel())\n",
        "plt.subplot(224)\n",
        "plt.hist(I_xray_eq.ravel())\n",
        "plt.show()\n"
      ],
      "metadata": {
        "id": "9FMMV4Lw5Ukg"
      },
      "execution_count": null,
      "outputs": []
    },
    {
      "cell_type": "markdown",
      "metadata": {
        "id": "Cba2nlmO1oW4"
      },
      "source": [
        "## 2.2 Coding\n"
      ]
    },
    {
      "cell_type": "markdown",
      "source": [
        "### Caveat 1: uint8 arithmetic"
      ],
      "metadata": {
        "id": "fHMfSzJV3Zwx"
      }
    },
    {
      "cell_type": "code",
      "execution_count": null,
      "metadata": {
        "id": "Q_IK9GUC1oW4"
      },
      "outputs": [],
      "source": [
        "# Caveat I: Be aware of uint8 arithmetics\n",
        "print('Image data type: ', I_xray.dtype)\n",
        "plt.figure(figsize=(8, 4))\n",
        "\n",
        "# show the image\n",
        "plt.subplot(141)\n",
        "plt.imshow(I_xray+30, cmap='gray')\n",
        "plt.axis('off')\n",
        "plt.title('uint8 overflow')\n",
        "\n",
        "plt.subplot(142)\n",
        "plt.imshow(np.clip(I_xray.astype(float)+30,0,255), cmap='gray')\n",
        "plt.axis('off')\n",
        "plt.title('I+30 clipped')\n",
        "\n",
        "plt.subplot(143)\n",
        "plt.imshow(I_xray-150, cmap='gray')\n",
        "plt.axis('off')\n",
        "plt.title('uint8 underflow')\n",
        "\n",
        "\n",
        "plt.subplot(144)\n",
        "plt.imshow(np.clip(I_xray.astype(float)-150,0,255), cmap='gray')\n",
        "plt.axis('off')\n",
        "plt.title('I-150 clipped')\n",
        "\n",
        "\n",
        "\n",
        "\n"
      ]
    },
    {
      "cell_type": "markdown",
      "metadata": {
        "id": "-xBQ4RIr1oW4"
      },
      "source": [
        "### Caveat 2: visualization auto-scale\n",
        "We didn't talk about the caveat in class that `vmin=0, vmax=255` is actually critical in our experiments, as `imshow()` automatically scale the image to 0-1."
      ]
    },
    {
      "cell_type": "code",
      "execution_count": null,
      "metadata": {
        "id": "BbuKaqYG1oW5"
      },
      "outputs": [],
      "source": [
        "# Caveat II: imshow function automatically scale image\n",
        "print('Image data type: ', I_xray.dtype)\n",
        "plt.figure(figsize=(8, 4))\n",
        "\n",
        "# show the image\n",
        "plt.subplot(221)\n",
        "plt.imshow(I_xray, cmap='gray')\n",
        "plt.axis('off')\n",
        "plt.title('input (auto-scaled)')\n",
        "\n",
        "plt.subplot(222)\n",
        "plt.imshow(I_xray-120, cmap='gray')\n",
        "plt.axis('off')\n",
        "plt.title('I-120 (autoscaled)')\n",
        "\n",
        "plt.subplot(223)\n",
        "plt.imshow(I_xray, cmap='gray', vmin=0, vmax=255)\n",
        "plt.axis('off')\n",
        "plt.title('input (no autoscale)')\n",
        "\n",
        "plt.subplot(224)\n",
        "plt.imshow(I_xray-120, cmap='gray', vmin=0, vmax=255)\n",
        "plt.axis('off')\n",
        "plt.title('I-120 (no autoscale)')"
      ]
    },
    {
      "cell_type": "markdown",
      "metadata": {
        "id": "pQaEII5w1oW6"
      },
      "source": [
        "# <b>3. Patch-level operations (Lec. 5-6)</b>\n"
      ]
    },
    {
      "cell_type": "markdown",
      "metadata": {
        "id": "o5vK4t1E1oW6"
      },
      "source": [
        "## 3.1 Median Filter"
      ]
    },
    {
      "cell_type": "markdown",
      "source": [
        "### Add salt and pepper noise"
      ],
      "metadata": {
        "id": "vrUg_CB9crC1"
      }
    },
    {
      "cell_type": "code",
      "execution_count": null,
      "metadata": {
        "id": "gSRpGHQf1oW6"
      },
      "outputs": [],
      "source": [
        "from imageio import imread\n",
        "import matplotlib.pyplot as plt\n",
        "import numpy as np\n",
        "\n",
        "# subsample the image by 4x, so that the noise is more visible\n",
        "I_xray = imread('xray_image.png')[::4,::4]\n",
        "\n",
        "# add salt and pepper noise\n",
        "I_xray_noise = I_xray.copy()\n",
        "I_xray_noise[np.random.random(I_xray.shape)>0.95] = 0\n",
        "I_xray_noise[np.random.random(I_xray.shape)>0.95] = 255\n",
        "\n",
        "\n",
        "plt.subplot(121)\n",
        "plt.imshow(I_xray, cmap='gray', vmin=0, vmax=255);plt.axis('off')\n",
        "plt.subplot(122)\n",
        "plt.imshow(I_xray_noise, cmap='gray', vmin=0, vmax=255);plt.axis('off')"
      ]
    },
    {
      "cell_type": "markdown",
      "metadata": {
        "id": "hgWyC_iB1oW6"
      },
      "source": [
        "### Filtering\n",
        "(not to worry about the border for now)"
      ]
    },
    {
      "cell_type": "code",
      "execution_count": null,
      "metadata": {
        "id": "NCJM627C1oW6"
      },
      "outputs": [],
      "source": [
        "# patch half size\n",
        "psz_h = 1\n",
        "\n",
        "# make sure to copy, otherwise they reference the same memory (same variable)\n",
        "I_xray_denoise = I_xray_noise.copy()\n",
        "im_size = I_xray_denoise.shape\n",
        "\n",
        "for row in range(psz_h, im_size[0]-psz_h):\n",
        "    for col in range(psz_h, im_size[1]-psz_h):\n",
        "        patch = I_xray_noise[row-psz_h : row+psz_h+1, col-psz_h : col+psz_h+1]\n",
        "        I_xray_denoise[row, col] = np.median(patch)\n",
        "\n",
        "plt.subplot(131)\n",
        "plt.imshow(I_xray, cmap='gray', vmin=0, vmax=255);plt.axis('off');plt.title('clean')\n",
        "plt.subplot(132)\n",
        "plt.imshow(I_xray_noise, cmap='gray', vmin=0, vmax=255);plt.axis('off');plt.title('noisy')\n",
        "plt.subplot(133)\n",
        "plt.imshow(I_xray_denoise, cmap='gray', vmin=0, vmax=255);plt.axis('off');plt.title('median filter result')"
      ]
    },
    {
      "cell_type": "markdown",
      "source": [
        "## 3.2 Convolution\n",
        "\n",
        "We mentioned in class that on the patch-level, the definition of **convolution** is the **dot product** of the **flipped**  kernel. With such definition, the convolution operation is commutatitve. Let's reproduce the first two columns of the illustration below [(Source: Wikipedia)](https://en.wikipedia.org/wiki/Convolution).\n",
        "\n",
        "<img height=300 src=\"https://upload.wikimedia.org/wikipedia/commons/thumb/2/21/Comparison_convolution_correlation.svg/512px-Comparison_convolution_correlation.svg.png\">"
      ],
      "metadata": {
        "id": "mBmmC60ve2KG"
      }
    },
    {
      "cell_type": "markdown",
      "source": [
        "First, let's create the 1D array (curve): `f` and `g`."
      ],
      "metadata": {
        "id": "cQbsOW--lUXf"
      }
    },
    {
      "cell_type": "code",
      "source": [
        "f = np.zeros(31)\n",
        "f[10:20] = 10\n",
        "g = np.zeros(31)\n",
        "g[10:20] = 10*np.linspace(0,1,10)[::1]\n",
        "\n",
        "plt.rcParams[\"figure.figsize\"] = (5,2)\n",
        "plt.subplot(1,2,1)\n",
        "plt.plot(f, 'r')\n",
        "plt.axis('equal')\n",
        "plt.subplot(1,2,2)\n",
        "plt.plot(g, 'b')\n",
        "plt.axis('equal')\n",
        "plt.show()"
      ],
      "metadata": {
        "id": "zhcLD9zde2Rk"
      },
      "execution_count": null,
      "outputs": []
    },
    {
      "cell_type": "markdown",
      "source": [
        "Let's compare the `sliding dot product` and the `convolution` (sliding flipped dot product)"
      ],
      "metadata": {
        "id": "DR4zbatClXPr"
      }
    },
    {
      "cell_type": "code",
      "source": [
        "def filter1dSamePadZero(signal, kernel, operation):\n",
        "  # \"same\" + \"0 padding\" the input signal\n",
        "  patch_sz = len(kernel)\n",
        "  patch_sz_h = patch_sz // 2\n",
        "  signal_pad = np.zeros(len(signal) + 2*patch_sz_h)\n",
        "  signal_pad[patch_sz_h : -patch_sz_h] = signal\n",
        "\n",
        "  # filtering\n",
        "  output = np.zeros(len(signal))\n",
        "  for i in range(len(signal)):\n",
        "      output[i] = operation(signal_pad[i:i+patch_sz], kernel)\n",
        "  return output\n",
        "\n",
        "def dotproduct1d(ff, gg):\n",
        "  return np.dot(ff, gg)\n",
        "\n",
        "def conv1d(ff, gg):\n",
        "  return np.dot(ff, gg[::-1])\n",
        "\n",
        "plt.rcParams[\"figure.figsize\"] = (5,3)\n",
        "plt.subplot(2,2,1)\n",
        "plt.plot(filter1dSamePadZero(f, g, conv1d))\n",
        "plt.title('f conv g')\n",
        "plt.axis('off')\n",
        "plt.subplot(2,2,2)\n",
        "plt.plot(filter1dSamePadZero(g, f, conv1d))\n",
        "plt.title('g conv f')\n",
        "plt.axis('off')\n",
        "\n",
        "plt.subplot(2,2,3)\n",
        "plt.plot(filter1dSamePadZero(f, g, dotproduct1d))\n",
        "plt.title('f dotproduct g')\n",
        "plt.axis('off')\n",
        "\n",
        "plt.subplot(2,2,4)\n",
        "plt.plot(filter1dSamePadZero(g, f, dotproduct1d))\n",
        "plt.title('g dotproduct f')\n",
        "plt.axis('off')\n",
        "plt.show()"
      ],
      "metadata": {
        "id": "H9f-pXxylXrv"
      },
      "execution_count": null,
      "outputs": []
    },
    {
      "cell_type": "markdown",
      "metadata": {
        "id": "eLZxOOH-lsU3"
      },
      "source": [
        "# [10 pts] Exercise"
      ]
    },
    {
      "cell_type": "markdown",
      "metadata": {
        "id": "Z7K-wtBV1oW7"
      },
      "source": [
        "## (1) [4 pts] Numpy Basics\n",
        "The class CSCI 3397 has `num_students` students. Each student has `num_grades` grades, one for each assignment.\n",
        "The staff store our grades in a numpy ndarray, of shape `(num_students, num_grades)`. (Each row is a student, each column is an assignment)\n",
        "\n",
        "(a) [1 pt] Create an ndarray of the proper shape to hold the grades table, and fill it with random values between 70 and 100. Hint: check out `np.random.random()` from above"
      ]
    },
    {
      "cell_type": "code",
      "execution_count": null,
      "metadata": {
        "id": "zyY8NQpHavAr"
      },
      "outputs": [],
      "source": [
        "num_students = 10\n",
        "num_grades = 3\n",
        "\n",
        "#### create the numpy 2D matrix\n",
        "\n",
        "#### your code starts ####\n",
        "grades_table = ???\n",
        "#### your code ends ####\n",
        "\n",
        "print(grades_table)"
      ]
    },
    {
      "cell_type": "markdown",
      "metadata": {
        "id": "SBzFdf05axgY"
      },
      "source": [
        "(b) [1 pt] Gabe's student index is `4` and we want to see how he's doing in the class. Use ndarray slicing to get an array containing all of his grades."
      ]
    },
    {
      "cell_type": "code",
      "execution_count": null,
      "metadata": {
        "id": "w4oSQJq1lsU4"
      },
      "outputs": [],
      "source": [
        "#### select a row\n",
        "\n",
        "#### your code starts ####\n",
        "gabe_grades = ???\n",
        "\n",
        "#### your code ends ####\n",
        "\n",
        "print('Gabe\\'s grade is:', gabe_grades)\n"
      ]
    },
    {
      "cell_type": "markdown",
      "metadata": {
        "id": "aLp6Agz1a4Jt"
      },
      "source": [
        "(c) [1 pt] Prof. Wei wants to know if pset 2 (assignment index 2) is too hard. Use ndarray slicing to extract the whole classes grades for pset 2."
      ]
    },
    {
      "cell_type": "code",
      "execution_count": null,
      "metadata": {
        "id": "uAaLMyIla4R5"
      },
      "outputs": [],
      "source": [
        "#### select a column\n",
        "\n",
        "#### your code starts ####\n",
        "pset2_grades = ???\n",
        "#### your code ends ####\n",
        "\n",
        "print('Pset2 grades are:', pset2_grades)"
      ]
    },
    {
      "cell_type": "markdown",
      "metadata": {
        "id": "iFmh9qhotUOR"
      },
      "source": [
        "(d) [1 pt] Prof. Wei wants to give everyone 20 points as extra credits (yay!) Please update the grades table and cap the maximum points as 100 (i.e., for grades more than 100, set them to 100)"
      ]
    },
    {
      "cell_type": "code",
      "execution_count": null,
      "metadata": {
        "id": "z3gdFZ9osZIF"
      },
      "outputs": [],
      "source": [
        "#### change the grades_table values\n",
        "\n",
        "#### your code starts ####\n",
        "grades_table_new = ???\n",
        "#### your code ends ####\n",
        "print(grades_table_new)"
      ]
    },
    {
      "cell_type": "markdown",
      "metadata": {
        "id": "g6sOmjgg1oW8"
      },
      "source": [
        "## (2) [3 pts] Auto-contrast with outlier handling\n",
        "\n",
        "- [1 pt] step 1 : threshold the image into the rangee [120,160]\n",
        "- [2 pts] step 2: scale the image into [0,255]\n"
      ]
    },
    {
      "cell_type": "code",
      "execution_count": null,
      "metadata": {
        "id": "5Sltf-X91oW8"
      },
      "outputs": [],
      "source": [
        "from imageio import imread\n",
        "import matplotlib.pyplot as plt\n",
        "import numpy as np\n",
        "\n",
        "# subsample the image by 4x, so that the noise is more visible\n",
        "I_microscopy = np.load('microscopy_image.npy')\n",
        "print('Image data type', I_microscopy.dtype)\n",
        "\n",
        "plt.figure(figsize=(8, 4))\n",
        "\n",
        "# show the image\n",
        "plt.subplot(121)\n",
        "plt.imshow(I_microscopy, cmap='gray')\n",
        "plt.axis('off')\n",
        "plt.title('input image')\n",
        "\n",
        "# show the pixel log-histogram\n",
        "plt.subplot(122)\n",
        "plt.hist(I_microscopy.reshape(-1))\n",
        "plt.yscale('log')\n",
        "plt.title('input pixel log-histogram')\n",
        "\n",
        "plt.show()"
      ]
    },
    {
      "cell_type": "code",
      "execution_count": null,
      "metadata": {
        "id": "r2ITN8Qp1oW9"
      },
      "outputs": [],
      "source": [
        "#### your code starts ####\n",
        "# step 1. threshold the image into range [120,160]\n",
        "# saturate the outlier pixels\n",
        "I_microscopy_out = ???\n",
        "\n",
        "# step 2. scale the image into range [0,255]\n",
        "\n",
        "\n",
        "#### your code ends ####\n",
        "\n",
        "\n",
        "# visualization code\n",
        "plt.figure(figsize=(8, 4))\n",
        "\n",
        "# show the image\n",
        "plt.subplot(121)\n",
        "plt.imshow(I_microscopy_out, cmap='gray')\n",
        "plt.axis('off')\n",
        "plt.title('processed image')\n",
        "\n",
        "# show the pixel log-histogram\n",
        "plt.subplot(122)\n",
        "plt.hist(I_microscopy_out.reshape(-1))\n",
        "plt.yscale('log')\n",
        "plt.title('processed pixel log-histogram')\n",
        "\n",
        "plt.show()"
      ]
    },
    {
      "cell_type": "markdown",
      "metadata": {
        "id": "OKpRaAMz1oW9"
      },
      "source": [
        "## (3) [3 pts] Sharpening filter\n",
        "\n",
        "Implement the \"sharpening filter\".\n",
        "\n",
        "- step 1: create a convolution kernel matrix (3x3)\n",
        "- step 2: copy & paste the median filter code for the \"filtering\"\n",
        "- step 3: change the patch-level function\n",
        "\n",
        "BTW, the filter size can be any size. we are using 3x3 for simplicity"
      ]
    },
    {
      "cell_type": "code",
      "execution_count": null,
      "metadata": {
        "id": "FTlm6t2M1oW9"
      },
      "outputs": [],
      "source": [
        "I_xray = imread('xray_image.png')[::4,::4]\n",
        "# make sure to copy, otherwise they reference the same memory (same variable)\n",
        "I_xray_sharp = I_xray.copy()\n",
        "\n",
        "\n",
        "#### your code starts ####\n",
        "## step 1. create the kernel matrix\n",
        "\n",
        "## step 2 & 3. modify the median filter code for filtering\n",
        "\n",
        "\n",
        "#### your code starts ####\n",
        "\n",
        "plt.subplot(121)\n",
        "plt.imshow(I_xray, cmap='gray');plt.axis('off');plt.title('original')\n",
        "plt.subplot(122)\n",
        "plt.imshow(I_xray_sharp, cmap='gray');plt.axis('off');plt.title('sharp')"
      ]
    }
  ],
  "metadata": {
    "colab": {
      "provenance": [],
      "toc_visible": true,
      "include_colab_link": true
    },
    "kernelspec": {
      "display_name": "Python 3 (ipykernel)",
      "language": "python",
      "name": "python3"
    },
    "language_info": {
      "codemirror_mode": {
        "name": "ipython",
        "version": 3
      },
      "file_extension": ".py",
      "mimetype": "text/x-python",
      "name": "python",
      "nbconvert_exporter": "python",
      "pygments_lexer": "ipython3",
      "version": "3.9.7"
    },
    "varInspector": {
      "cols": {
        "lenName": 16,
        "lenType": 16,
        "lenVar": 40
      },
      "kernels_config": {
        "python": {
          "delete_cmd_postfix": "",
          "delete_cmd_prefix": "del ",
          "library": "var_list.py",
          "varRefreshCmd": "print(var_dic_list())"
        },
        "r": {
          "delete_cmd_postfix": ") ",
          "delete_cmd_prefix": "rm(",
          "library": "var_list.r",
          "varRefreshCmd": "cat(var_dic_list()) "
        }
      },
      "types_to_exclude": [
        "module",
        "function",
        "builtin_function_or_method",
        "instance",
        "_Feature"
      ],
      "window_display": false
    }
  },
  "nbformat": 4,
  "nbformat_minor": 0
}